{
    "cells": [
        {
            "metadata": {},
            "cell_type": "code",
            "source": "# import libraries\nfrom datetime import datetime, timedelta\nimport pandas as pd\n%matplotlib inline\nimport matplotlib.pyplot as plt\nimport numpy as np\nimport seaborn as sns\nimport plotly.plotly as py\nimport plotly.offline as pyoff\nimport plotly.graph_objs as go\n\n#initiate visualization library for jupyter notebook \npyoff.init_notebook_mode()",
            "execution_count": null,
            "outputs": []
        },
        {
            "metadata": {},
            "cell_type": "markdown",
            "source": "## Let\u2019s start with importing the libraries we need and reading our data from CSV with the help of pandas"
        },
        {
            "metadata": {},
            "cell_type": "code",
            "source": "# import types\nimport pandas as pd\nfrom botocore.client import Config\nimport ibm_boto3\n\ndef __iter__(self): return 0\n\n# @hidden_cell\n# The following code accesses a file in your IBM Cloud Object Storage. It includes your credentials.\n# You might want to remove those credentials before you share the notebook.\nclient_da5c1c382554453d95e53ac9272b2629 = ibm_boto3.client(service_name='s3',\n    ibm_api_key_id='splX848i6-qKDwy7QS299YL2VpamwIMt0h95GZ980Ar_',\n    ibm_auth_endpoint=\"https://iam.eu-gb.bluemix.net/oidc/token\",\n    config=Config(signature_version='oauth'),\n    endpoint_url='https://s3.eu-geo.objectstorage.service.networklayer.com')\n\nbody = client_da5c1c382554453d95e53ac9272b2629.get_object(Bucket='crm-donotdelete-pr-2kcw3qg0imaz0b',Key='OnlineRetail.csv')['Body']\n# add missing __iter__ method, so pandas accepts body as file-like object\nif not hasattr(body, \"__iter__\"): body.__iter__ = types.MethodType( __iter__, body )\n\n\ndf = pd.read_csv(body , encoding='latin-1')\ndf.head(5)",
            "execution_count": 2,
            "outputs": []
        },
        {
            "metadata": {},
            "cell_type": "code",
            "source": "#converting the type of Invoice Date Field from string to datetime.\ndf['InvoiceDate'] = pd.to_datetime(df['InvoiceDate'])\ndf.head(5)",
            "execution_count": 3,
            "outputs": [
                {
                    "output_type": "execute_result",
                    "execution_count": 3,
                    "data": {
                        "text/plain": "  InvoiceNo StockCode                          Description  Quantity  \\\n0    536365    85123A   WHITE HANGING HEART T-LIGHT HOLDER         6   \n1    536365     71053                  WHITE METAL LANTERN         6   \n2    536365    84406B       CREAM CUPID HEARTS COAT HANGER         8   \n3    536365    84029G  KNITTED UNION FLAG HOT WATER BOTTLE         6   \n4    536365    84029E       RED WOOLLY HOTTIE WHITE HEART.         6   \n\n          InvoiceDate  UnitPrice  CustomerID         Country  \n0 2010-12-01 08:26:00       2.55     17850.0  United Kingdom  \n1 2010-12-01 08:26:00       3.39     17850.0  United Kingdom  \n2 2010-12-01 08:26:00       2.75     17850.0  United Kingdom  \n3 2010-12-01 08:26:00       3.39     17850.0  United Kingdom  \n4 2010-12-01 08:26:00       3.39     17850.0  United Kingdom  ",
                        "text/html": "<div>\n<style scoped>\n    .dataframe tbody tr th:only-of-type {\n        vertical-align: middle;\n    }\n\n    .dataframe tbody tr th {\n        vertical-align: top;\n    }\n\n    .dataframe thead th {\n        text-align: right;\n    }\n</style>\n<table border=\"1\" class=\"dataframe\">\n  <thead>\n    <tr style=\"text-align: right;\">\n      <th></th>\n      <th>InvoiceNo</th>\n      <th>StockCode</th>\n      <th>Description</th>\n      <th>Quantity</th>\n      <th>InvoiceDate</th>\n      <th>UnitPrice</th>\n      <th>CustomerID</th>\n      <th>Country</th>\n    </tr>\n  </thead>\n  <tbody>\n    <tr>\n      <th>0</th>\n      <td>536365</td>\n      <td>85123A</td>\n      <td>WHITE HANGING HEART T-LIGHT HOLDER</td>\n      <td>6</td>\n      <td>2010-12-01 08:26:00</td>\n      <td>2.55</td>\n      <td>17850.0</td>\n      <td>United Kingdom</td>\n    </tr>\n    <tr>\n      <th>1</th>\n      <td>536365</td>\n      <td>71053</td>\n      <td>WHITE METAL LANTERN</td>\n      <td>6</td>\n      <td>2010-12-01 08:26:00</td>\n      <td>3.39</td>\n      <td>17850.0</td>\n      <td>United Kingdom</td>\n    </tr>\n    <tr>\n      <th>2</th>\n      <td>536365</td>\n      <td>84406B</td>\n      <td>CREAM CUPID HEARTS COAT HANGER</td>\n      <td>8</td>\n      <td>2010-12-01 08:26:00</td>\n      <td>2.75</td>\n      <td>17850.0</td>\n      <td>United Kingdom</td>\n    </tr>\n    <tr>\n      <th>3</th>\n      <td>536365</td>\n      <td>84029G</td>\n      <td>KNITTED UNION FLAG HOT WATER BOTTLE</td>\n      <td>6</td>\n      <td>2010-12-01 08:26:00</td>\n      <td>3.39</td>\n      <td>17850.0</td>\n      <td>United Kingdom</td>\n    </tr>\n    <tr>\n      <th>4</th>\n      <td>536365</td>\n      <td>84029E</td>\n      <td>RED WOOLLY HOTTIE WHITE HEART.</td>\n      <td>6</td>\n      <td>2010-12-01 08:26:00</td>\n      <td>3.39</td>\n      <td>17850.0</td>\n      <td>United Kingdom</td>\n    </tr>\n  </tbody>\n</table>\n</div>"
                    },
                    "metadata": {}
                }
            ]
        },
        {
            "metadata": {},
            "cell_type": "code",
            "source": "#creating YearMonth field for the ease of reporting and visualization\ndf['InvoiceYearMonth'] = df['InvoiceDate'].map(lambda date: 100*date.year + date.month)\ndf.head(10)",
            "execution_count": 4,
            "outputs": [
                {
                    "output_type": "execute_result",
                    "execution_count": 4,
                    "data": {
                        "text/plain": "  InvoiceNo StockCode                          Description  Quantity  \\\n0    536365    85123A   WHITE HANGING HEART T-LIGHT HOLDER         6   \n1    536365     71053                  WHITE METAL LANTERN         6   \n2    536365    84406B       CREAM CUPID HEARTS COAT HANGER         8   \n3    536365    84029G  KNITTED UNION FLAG HOT WATER BOTTLE         6   \n4    536365    84029E       RED WOOLLY HOTTIE WHITE HEART.         6   \n5    536365     22752         SET 7 BABUSHKA NESTING BOXES         2   \n6    536365     21730    GLASS STAR FROSTED T-LIGHT HOLDER         6   \n7    536366     22633               HAND WARMER UNION JACK         6   \n8    536366     22632            HAND WARMER RED POLKA DOT         6   \n9    536367     84879        ASSORTED COLOUR BIRD ORNAMENT        32   \n\n          InvoiceDate  UnitPrice  CustomerID         Country  InvoiceYearMonth  \n0 2010-12-01 08:26:00       2.55     17850.0  United Kingdom            201012  \n1 2010-12-01 08:26:00       3.39     17850.0  United Kingdom            201012  \n2 2010-12-01 08:26:00       2.75     17850.0  United Kingdom            201012  \n3 2010-12-01 08:26:00       3.39     17850.0  United Kingdom            201012  \n4 2010-12-01 08:26:00       3.39     17850.0  United Kingdom            201012  \n5 2010-12-01 08:26:00       7.65     17850.0  United Kingdom            201012  \n6 2010-12-01 08:26:00       4.25     17850.0  United Kingdom            201012  \n7 2010-12-01 08:28:00       1.85     17850.0  United Kingdom            201012  \n8 2010-12-01 08:28:00       1.85     17850.0  United Kingdom            201012  \n9 2010-12-01 08:34:00       1.69     13047.0  United Kingdom            201012  ",
                        "text/html": "<div>\n<style scoped>\n    .dataframe tbody tr th:only-of-type {\n        vertical-align: middle;\n    }\n\n    .dataframe tbody tr th {\n        vertical-align: top;\n    }\n\n    .dataframe thead th {\n        text-align: right;\n    }\n</style>\n<table border=\"1\" class=\"dataframe\">\n  <thead>\n    <tr style=\"text-align: right;\">\n      <th></th>\n      <th>InvoiceNo</th>\n      <th>StockCode</th>\n      <th>Description</th>\n      <th>Quantity</th>\n      <th>InvoiceDate</th>\n      <th>UnitPrice</th>\n      <th>CustomerID</th>\n      <th>Country</th>\n      <th>InvoiceYearMonth</th>\n    </tr>\n  </thead>\n  <tbody>\n    <tr>\n      <th>0</th>\n      <td>536365</td>\n      <td>85123A</td>\n      <td>WHITE HANGING HEART T-LIGHT HOLDER</td>\n      <td>6</td>\n      <td>2010-12-01 08:26:00</td>\n      <td>2.55</td>\n      <td>17850.0</td>\n      <td>United Kingdom</td>\n      <td>201012</td>\n    </tr>\n    <tr>\n      <th>1</th>\n      <td>536365</td>\n      <td>71053</td>\n      <td>WHITE METAL LANTERN</td>\n      <td>6</td>\n      <td>2010-12-01 08:26:00</td>\n      <td>3.39</td>\n      <td>17850.0</td>\n      <td>United Kingdom</td>\n      <td>201012</td>\n    </tr>\n    <tr>\n      <th>2</th>\n      <td>536365</td>\n      <td>84406B</td>\n      <td>CREAM CUPID HEARTS COAT HANGER</td>\n      <td>8</td>\n      <td>2010-12-01 08:26:00</td>\n      <td>2.75</td>\n      <td>17850.0</td>\n      <td>United Kingdom</td>\n      <td>201012</td>\n    </tr>\n    <tr>\n      <th>3</th>\n      <td>536365</td>\n      <td>84029G</td>\n      <td>KNITTED UNION FLAG HOT WATER BOTTLE</td>\n      <td>6</td>\n      <td>2010-12-01 08:26:00</td>\n      <td>3.39</td>\n      <td>17850.0</td>\n      <td>United Kingdom</td>\n      <td>201012</td>\n    </tr>\n    <tr>\n      <th>4</th>\n      <td>536365</td>\n      <td>84029E</td>\n      <td>RED WOOLLY HOTTIE WHITE HEART.</td>\n      <td>6</td>\n      <td>2010-12-01 08:26:00</td>\n      <td>3.39</td>\n      <td>17850.0</td>\n      <td>United Kingdom</td>\n      <td>201012</td>\n    </tr>\n    <tr>\n      <th>5</th>\n      <td>536365</td>\n      <td>22752</td>\n      <td>SET 7 BABUSHKA NESTING BOXES</td>\n      <td>2</td>\n      <td>2010-12-01 08:26:00</td>\n      <td>7.65</td>\n      <td>17850.0</td>\n      <td>United Kingdom</td>\n      <td>201012</td>\n    </tr>\n    <tr>\n      <th>6</th>\n      <td>536365</td>\n      <td>21730</td>\n      <td>GLASS STAR FROSTED T-LIGHT HOLDER</td>\n      <td>6</td>\n      <td>2010-12-01 08:26:00</td>\n      <td>4.25</td>\n      <td>17850.0</td>\n      <td>United Kingdom</td>\n      <td>201012</td>\n    </tr>\n    <tr>\n      <th>7</th>\n      <td>536366</td>\n      <td>22633</td>\n      <td>HAND WARMER UNION JACK</td>\n      <td>6</td>\n      <td>2010-12-01 08:28:00</td>\n      <td>1.85</td>\n      <td>17850.0</td>\n      <td>United Kingdom</td>\n      <td>201012</td>\n    </tr>\n    <tr>\n      <th>8</th>\n      <td>536366</td>\n      <td>22632</td>\n      <td>HAND WARMER RED POLKA DOT</td>\n      <td>6</td>\n      <td>2010-12-01 08:28:00</td>\n      <td>1.85</td>\n      <td>17850.0</td>\n      <td>United Kingdom</td>\n      <td>201012</td>\n    </tr>\n    <tr>\n      <th>9</th>\n      <td>536367</td>\n      <td>84879</td>\n      <td>ASSORTED COLOUR BIRD ORNAMENT</td>\n      <td>32</td>\n      <td>2010-12-01 08:34:00</td>\n      <td>1.69</td>\n      <td>13047.0</td>\n      <td>United Kingdom</td>\n      <td>201012</td>\n    </tr>\n  </tbody>\n</table>\n</div>"
                    },
                    "metadata": {}
                }
            ]
        },
        {
            "metadata": {},
            "cell_type": "markdown",
            "source": "# Revenue = Active Customer Count * Order Count * Average Revenue per Order\n## It\u2019s time to get our hands dirty. We want to see monthly revenue but unfortunately there is no free lunch. Let\u2019s engineer our data:"
        },
        {
            "metadata": {},
            "cell_type": "code",
            "source": "#calculate Revenue for each row and create a new dataframe with YearMonth - Revenue columns\ndf['Revenue'] = df['UnitPrice'] * df['Quantity']\ndf.head(5)",
            "execution_count": 5,
            "outputs": [
                {
                    "output_type": "execute_result",
                    "execution_count": 5,
                    "data": {
                        "text/plain": "  InvoiceNo StockCode                          Description  Quantity  \\\n0    536365    85123A   WHITE HANGING HEART T-LIGHT HOLDER         6   \n1    536365     71053                  WHITE METAL LANTERN         6   \n2    536365    84406B       CREAM CUPID HEARTS COAT HANGER         8   \n3    536365    84029G  KNITTED UNION FLAG HOT WATER BOTTLE         6   \n4    536365    84029E       RED WOOLLY HOTTIE WHITE HEART.         6   \n\n          InvoiceDate  UnitPrice  CustomerID         Country  \\\n0 2010-12-01 08:26:00       2.55     17850.0  United Kingdom   \n1 2010-12-01 08:26:00       3.39     17850.0  United Kingdom   \n2 2010-12-01 08:26:00       2.75     17850.0  United Kingdom   \n3 2010-12-01 08:26:00       3.39     17850.0  United Kingdom   \n4 2010-12-01 08:26:00       3.39     17850.0  United Kingdom   \n\n   InvoiceYearMonth  Revenue  \n0            201012    15.30  \n1            201012    20.34  \n2            201012    22.00  \n3            201012    20.34  \n4            201012    20.34  ",
                        "text/html": "<div>\n<style scoped>\n    .dataframe tbody tr th:only-of-type {\n        vertical-align: middle;\n    }\n\n    .dataframe tbody tr th {\n        vertical-align: top;\n    }\n\n    .dataframe thead th {\n        text-align: right;\n    }\n</style>\n<table border=\"1\" class=\"dataframe\">\n  <thead>\n    <tr style=\"text-align: right;\">\n      <th></th>\n      <th>InvoiceNo</th>\n      <th>StockCode</th>\n      <th>Description</th>\n      <th>Quantity</th>\n      <th>InvoiceDate</th>\n      <th>UnitPrice</th>\n      <th>CustomerID</th>\n      <th>Country</th>\n      <th>InvoiceYearMonth</th>\n      <th>Revenue</th>\n    </tr>\n  </thead>\n  <tbody>\n    <tr>\n      <th>0</th>\n      <td>536365</td>\n      <td>85123A</td>\n      <td>WHITE HANGING HEART T-LIGHT HOLDER</td>\n      <td>6</td>\n      <td>2010-12-01 08:26:00</td>\n      <td>2.55</td>\n      <td>17850.0</td>\n      <td>United Kingdom</td>\n      <td>201012</td>\n      <td>15.30</td>\n    </tr>\n    <tr>\n      <th>1</th>\n      <td>536365</td>\n      <td>71053</td>\n      <td>WHITE METAL LANTERN</td>\n      <td>6</td>\n      <td>2010-12-01 08:26:00</td>\n      <td>3.39</td>\n      <td>17850.0</td>\n      <td>United Kingdom</td>\n      <td>201012</td>\n      <td>20.34</td>\n    </tr>\n    <tr>\n      <th>2</th>\n      <td>536365</td>\n      <td>84406B</td>\n      <td>CREAM CUPID HEARTS COAT HANGER</td>\n      <td>8</td>\n      <td>2010-12-01 08:26:00</td>\n      <td>2.75</td>\n      <td>17850.0</td>\n      <td>United Kingdom</td>\n      <td>201012</td>\n      <td>22.00</td>\n    </tr>\n    <tr>\n      <th>3</th>\n      <td>536365</td>\n      <td>84029G</td>\n      <td>KNITTED UNION FLAG HOT WATER BOTTLE</td>\n      <td>6</td>\n      <td>2010-12-01 08:26:00</td>\n      <td>3.39</td>\n      <td>17850.0</td>\n      <td>United Kingdom</td>\n      <td>201012</td>\n      <td>20.34</td>\n    </tr>\n    <tr>\n      <th>4</th>\n      <td>536365</td>\n      <td>84029E</td>\n      <td>RED WOOLLY HOTTIE WHITE HEART.</td>\n      <td>6</td>\n      <td>2010-12-01 08:26:00</td>\n      <td>3.39</td>\n      <td>17850.0</td>\n      <td>United Kingdom</td>\n      <td>201012</td>\n      <td>20.34</td>\n    </tr>\n  </tbody>\n</table>\n</div>"
                    },
                    "metadata": {}
                }
            ]
        },
        {
            "metadata": {},
            "cell_type": "code",
            "source": "tx_revenue = df.groupby(['InvoiceYearMonth'])['Revenue'].sum().reset_index()\ntx_revenue",
            "execution_count": 6,
            "outputs": [
                {
                    "output_type": "execute_result",
                    "execution_count": 6,
                    "data": {
                        "text/plain": "    InvoiceYearMonth      Revenue\n0             201012   748957.020\n1             201101   560000.260\n2             201102   498062.650\n3             201103   683267.080\n4             201104   493207.121\n5             201105   723333.510\n6             201106   691123.120\n7             201107   681300.111\n8             201108   682680.510\n9             201109  1019687.622\n10            201110  1070704.670\n11            201111  1461756.250\n12            201112   433668.010",
                        "text/html": "<div>\n<style scoped>\n    .dataframe tbody tr th:only-of-type {\n        vertical-align: middle;\n    }\n\n    .dataframe tbody tr th {\n        vertical-align: top;\n    }\n\n    .dataframe thead th {\n        text-align: right;\n    }\n</style>\n<table border=\"1\" class=\"dataframe\">\n  <thead>\n    <tr style=\"text-align: right;\">\n      <th></th>\n      <th>InvoiceYearMonth</th>\n      <th>Revenue</th>\n    </tr>\n  </thead>\n  <tbody>\n    <tr>\n      <th>0</th>\n      <td>201012</td>\n      <td>748957.020</td>\n    </tr>\n    <tr>\n      <th>1</th>\n      <td>201101</td>\n      <td>560000.260</td>\n    </tr>\n    <tr>\n      <th>2</th>\n      <td>201102</td>\n      <td>498062.650</td>\n    </tr>\n    <tr>\n      <th>3</th>\n      <td>201103</td>\n      <td>683267.080</td>\n    </tr>\n    <tr>\n      <th>4</th>\n      <td>201104</td>\n      <td>493207.121</td>\n    </tr>\n    <tr>\n      <th>5</th>\n      <td>201105</td>\n      <td>723333.510</td>\n    </tr>\n    <tr>\n      <th>6</th>\n      <td>201106</td>\n      <td>691123.120</td>\n    </tr>\n    <tr>\n      <th>7</th>\n      <td>201107</td>\n      <td>681300.111</td>\n    </tr>\n    <tr>\n      <th>8</th>\n      <td>201108</td>\n      <td>682680.510</td>\n    </tr>\n    <tr>\n      <th>9</th>\n      <td>201109</td>\n      <td>1019687.622</td>\n    </tr>\n    <tr>\n      <th>10</th>\n      <td>201110</td>\n      <td>1070704.670</td>\n    </tr>\n    <tr>\n      <th>11</th>\n      <td>201111</td>\n      <td>1461756.250</td>\n    </tr>\n    <tr>\n      <th>12</th>\n      <td>201112</td>\n      <td>433668.010</td>\n    </tr>\n  </tbody>\n</table>\n</div>"
                    },
                    "metadata": {}
                }
            ]
        },
        {
            "metadata": {},
            "cell_type": "markdown",
            "source": "# Next step, visualization. A line graph would be sufficient:\n"
        },
        {
            "metadata": {},
            "cell_type": "code",
            "source": "#X and Y axis inputs for Plotly graph. We use Scatter for line graphs\nplot_data = [\n    go.Scatter(\n        x=tx_revenue['InvoiceYearMonth'],\n        y=tx_revenue['Revenue'],\n    )\n]\n\nplot_layout = go.Layout(\n        xaxis={\"type\": \"category\"},\n        title='Montly Revenue'\n    )\nfig = go.Figure(data=plot_data, layout=plot_layout)\npyoff.iplot(fig)",
            "execution_count": 7,
            "outputs": [
                {
                    "output_type": "display_data",
                    "data": {
                        "application/vnd.plotly.v1+json": {
                            "data": [
                                {
                                    "x": [
                                        201012,
                                        201101,
                                        201102,
                                        201103,
                                        201104,
                                        201105,
                                        201106,
                                        201107,
                                        201108,
                                        201109,
                                        201110,
                                        201111,
                                        201112
                                    ],
                                    "y": [
                                        748957.0199999774,
                                        560000.2600000234,
                                        498062.6500000268,
                                        683267.0800000189,
                                        493207.1210000249,
                                        723333.51000001,
                                        691123.1200000228,
                                        681300.1110000301,
                                        682680.5100000176,
                                        1019687.622000011,
                                        1070704.669999975,
                                        1461756.2499997574,
                                        433668.0100000171
                                    ],
                                    "type": "scatter",
                                    "uid": "40b54a7e-f41f-4148-be3d-47bdc673308c"
                                }
                            ],
                            "layout": {
                                "title": {
                                    "text": "Montly Revenue"
                                },
                                "xaxis": {
                                    "type": "category"
                                }
                            },
                            "config": {
                                "showLink": false,
                                "linkText": "Export to plot.ly",
                                "plotlyServerURL": "https://plot.ly"
                            }
                        },
                        "text/html": "<div id=\"31d72607-84f8-41b7-822e-03c1902d592d\" style=\"height: 525px; width: 100%;\" class=\"plotly-graph-div\"></div><script type=\"text/javascript\">require([\"plotly\"], function(Plotly) { window.PLOTLYENV=window.PLOTLYENV || {};window.PLOTLYENV.BASE_URL=\"https://plot.ly\";Plotly.newPlot(\"31d72607-84f8-41b7-822e-03c1902d592d\", [{\"x\": [201012, 201101, 201102, 201103, 201104, 201105, 201106, 201107, 201108, 201109, 201110, 201111, 201112], \"y\": [748957.0199999774, 560000.2600000234, 498062.6500000268, 683267.0800000189, 493207.1210000249, 723333.51000001, 691123.1200000228, 681300.1110000301, 682680.5100000176, 1019687.622000011, 1070704.669999975, 1461756.2499997574, 433668.0100000171], \"type\": \"scatter\", \"uid\": \"40b54a7e-f41f-4148-be3d-47bdc673308c\"}], {\"title\": {\"text\": \"Montly Revenue\"}, \"xaxis\": {\"type\": \"category\"}}, {\"showLink\": false, \"linkText\": \"Export to plot.ly\", \"plotlyServerURL\": \"https://plot.ly\"})});</script><script type=\"text/javascript\">window.addEventListener(\"resize\", function(){window._Plotly.Plots.resize(document.getElementById(\"31d72607-84f8-41b7-822e-03c1902d592d\"));});</script>",
                        "text/vnd.plotly.v1+html": "<div id=\"31d72607-84f8-41b7-822e-03c1902d592d\" style=\"height: 525px; width: 100%;\" class=\"plotly-graph-div\"></div><script type=\"text/javascript\">require([\"plotly\"], function(Plotly) { window.PLOTLYENV=window.PLOTLYENV || {};window.PLOTLYENV.BASE_URL=\"https://plot.ly\";Plotly.newPlot(\"31d72607-84f8-41b7-822e-03c1902d592d\", [{\"x\": [201012, 201101, 201102, 201103, 201104, 201105, 201106, 201107, 201108, 201109, 201110, 201111, 201112], \"y\": [748957.0199999774, 560000.2600000234, 498062.6500000268, 683267.0800000189, 493207.1210000249, 723333.51000001, 691123.1200000228, 681300.1110000301, 682680.5100000176, 1019687.622000011, 1070704.669999975, 1461756.2499997574, 433668.0100000171], \"type\": \"scatter\", \"uid\": \"40b54a7e-f41f-4148-be3d-47bdc673308c\"}], {\"title\": {\"text\": \"Montly Revenue\"}, \"xaxis\": {\"type\": \"category\"}}, {\"showLink\": false, \"linkText\": \"Export to plot.ly\", \"plotlyServerURL\": \"https://plot.ly\"})});</script><script type=\"text/javascript\">window.addEventListener(\"resize\", function(){window._Plotly.Plots.resize(document.getElementById(\"31d72607-84f8-41b7-822e-03c1902d592d\"));});</script>"
                    },
                    "metadata": {}
                }
            ]
        },
        {
            "metadata": {},
            "cell_type": "code",
            "source": "",
            "execution_count": null,
            "outputs": []
        }
    ],
    "metadata": {
        "kernelspec": {
            "name": "python3",
            "display_name": "Python 3.6",
            "language": "python"
        },
        "language_info": {
            "name": "python",
            "version": "3.6.9",
            "mimetype": "text/x-python",
            "codemirror_mode": {
                "name": "ipython",
                "version": 3
            },
            "pygments_lexer": "ipython3",
            "nbconvert_exporter": "python",
            "file_extension": ".py"
        }
    },
    "nbformat": 4,
    "nbformat_minor": 1
}